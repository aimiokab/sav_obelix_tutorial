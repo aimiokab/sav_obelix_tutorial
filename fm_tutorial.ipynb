{
 "cells": [
  {
   "cell_type": "code",
   "execution_count": 17,
   "id": "55379d08",
   "metadata": {},
   "outputs": [],
   "source": [
    "import numpy as np\n",
    "import matplotlib.pyplot as plt\n",
    "from imageio import imread\n",
    "import random\n",
    "\n",
    "import torch"
   ]
  },
  {
   "cell_type": "code",
   "execution_count": 22,
   "id": "db7d513c",
   "metadata": {},
   "outputs": [],
   "source": [
    "def load_image(fname):\n",
    "    img = np.mean(imread(fname), axis=2)  # Grayscale\n",
    "    img = (img[:, :]) / 255.0\n",
    "    return 1 - img  # black = 1, white = 0\n",
    "\n",
    "def cloud_transform(image, n_samples=1000):\n",
    "    image = image > 0.1\n",
    "    samples = np.vstack([np.where(image)[1] / image.shape[1],\n",
    "                         1 - np.where(image)[0] / image.shape[0]]).T\n",
    "    samples = samples - samples.mean(axis=0)\n",
    "    samples = samples * 2\n",
    "    # add a little bit of noise to avoid the sampling patterns\n",
    "    samples += np.random.randn(samples.shape[0], 2) * 2e-3\n",
    "    samples = samples[random.sample([i for i in range(len(samples))], n_samples)]\n",
    "    return samples"
   ]
  },
  {
   "cell_type": "code",
   "execution_count": 10,
   "id": "5abdb1a8",
   "metadata": {},
   "outputs": [
    {
     "name": "stderr",
     "output_type": "stream",
     "text": [
      "/tmp/ipykernel_285054/3379521651.py:2: DeprecationWarning: Starting with ImageIO v3 the behavior of this function will switch to that of iio.v3.imread. To keep the current behavior (and make this warning disappear) use `import imageio.v2 as imageio` or call `imageio.v2.imread` directly.\n",
      "  img = np.mean(imread(fname), axis=2)  # Grayscale\n"
     ]
    }
   ],
   "source": [
    "obelix = load_image('obelix.jpg')\n",
    "asterix = load_image('asterix.jpg')\n",
    "#plt.imshow(obelix,cmap='Greys')\n",
    "#plt.axis('off')"
   ]
  },
  {
   "cell_type": "markdown",
   "id": "fb3142cb",
   "metadata": {},
   "source": [
    "## 0/ Define source and target distributions"
   ]
  },
  {
   "cell_type": "code",
   "execution_count": 25,
   "id": "14eabbe8",
   "metadata": {},
   "outputs": [],
   "source": [
    "target = cloud_transform(obelix, n_samples=1000)\n",
    "source = cloud_transform(asterix, n_samples=1000)"
   ]
  },
  {
   "cell_type": "code",
   "execution_count": 24,
   "id": "887a4df4",
   "metadata": {},
   "outputs": [
    {
     "data": {
      "image/png": "[encoded data removed]",
      "text/plain": [
       "<Figure size 500x600 with 1 Axes>"
      ]
     },
     "metadata": {},
     "output_type": "display_data"
    }
   ],
   "source": [
    "plt.figure(figsize=(5,6))\n",
    "plt.scatter(cloud_obelix[:,0], cloud_obelix[:,1],marker='.',c='k',s=1)\n",
    "plt.axis('off')\n",
    "plt.show()"
   ]
  },
  {
   "cell_type": "markdown",
   "id": "dd99ac90",
   "metadata": {},
   "source": [
    "## 1/ General framework"
   ]
  },
  {
   "cell_type": "markdown",
   "id": "741022e2",
   "metadata": {},
   "source": [
    "The goal of flow matching is to transform a source distribution $p_0$ into the target distribution $p_1$. To do so, we consider a probability path between $p_0$ and $p_1$ that go through intermediate marginal distributions $(p_t), t\\in[0,1]$. We also define a time-dependent flow $\\Psi: [0,1] \\times \\mathbb{R}^d \\rightarrow \\mathbb{R}^d$ such that pushes $p_0$ to $p_t$: $p_t=[\\Psi_t]*p_0$"
   ]
  },
  {
   "cell_type": "markdown",
   "id": "b9a073e5",
   "metadata": {},
   "source": [
    "The flow is defined with an Ordinary Differential Equation (ODE):\n",
    "$\\frac{d}{d t} \\Psi_t(x) & =v_t(\\Psi_t(x))$"
   ]
  },
  {
   "cell_type": "markdown",
   "id": "5ebcd703",
   "metadata": {},
   "source": [
    "Marginal distribution:\\\n",
    "$p_t(x)=\\int p_t\\left(x \\mid z\\right) q\\left(z\\right) d z$ \\\n",
    "Velocity field:\\\n",
    "$u_t(x)=\\int u_t\\left(x \\mid z\\right) \\frac{p_t\\left(x \\mid z\\right) q\\left(z\\right)}{p_t(x)} d z$"
   ]
  },
  {
   "cell_type": "code",
   "execution_count": null,
   "id": "3a399f7c",
   "metadata": {},
   "outputs": [],
   "source": []
  },
  {
   "cell_type": "markdown",
   "id": "3d95d9e6",
   "metadata": {},
   "source": [
    "## 2/ Flow matching from gaussian"
   ]
  },
  {
   "cell_type": "code",
   "execution_count": null,
   "id": "8877bf2b",
   "metadata": {},
   "outputs": [],
   "source": []
  },
  {
   "cell_type": "markdown",
   "id": "50092b62",
   "metadata": {},
   "source": [
    "## 3/ Flow matching from data distribution"
   ]
  },
  {
   "cell_type": "code",
   "execution_count": null,
   "id": "31095b18",
   "metadata": {},
   "outputs": [],
   "source": []
  }
 ],
 "metadata": {
  "kernelspec": {
   "display_name": "test",
   "language": "python",
   "name": "python3"
  },
  "language_info": {
   "codemirror_mode": {
    "name": "ipython",
    "version": 3
   },
   "file_extension": ".py",
   "mimetype": "text/x-python",
   "name": "python",
   "nbconvert_exporter": "python",
   "pygments_lexer": "ipython3",
   "version": "3.10.14"
  }
 },
 "nbformat": 4,
 "nbformat_minor": 5
}
